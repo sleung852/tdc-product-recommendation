{
 "cells": [
  {
   "cell_type": "code",
   "execution_count": 28,
   "metadata": {},
   "outputs": [],
   "source": [
    "import pandas as pd\n",
    "import numpy as np\n",
    "import matplotlib.pyplot as plt\n",
    "import os"
   ]
  },
  {
   "cell_type": "code",
   "execution_count": 29,
   "metadata": {},
   "outputs": [],
   "source": [
    "raw_data = os.listdir('checkpoints')\n",
    "gmf = []\n",
    "mlp = []\n",
    "neumf=[]\n",
    "for line in raw_data:\n",
    "    if line[:3]=='gmf':\n",
    "        gmf.append(line.split('_'))\n",
    "    elif line[:3]=='mlp':\n",
    "        mlp.append(line.split('_'))\n",
    "    else:\n",
    "        neumf.append(line.split('_'))\n",
    "gmf = pd.DataFrame(gmf)\n",
    "mlp = pd.DataFrame(mlp)\n",
    "neumf = pd.DataFrame(neumf)"
   ]
  },
  {
   "cell_type": "code",
   "execution_count": 30,
   "metadata": {},
   "outputs": [
    {
     "data": {
      "text/html": [
       "<div>\n",
       "<style scoped>\n",
       "    .dataframe tbody tr th:only-of-type {\n",
       "        vertical-align: middle;\n",
       "    }\n",
       "\n",
       "    .dataframe tbody tr th {\n",
       "        vertical-align: top;\n",
       "    }\n",
       "\n",
       "    .dataframe thead th {\n",
       "        text-align: right;\n",
       "    }\n",
       "</style>\n",
       "<table border=\"1\" class=\"dataframe\">\n",
       "  <thead>\n",
       "    <tr style=\"text-align: right;\">\n",
       "      <th></th>\n",
       "      <th>0</th>\n",
       "      <th>1</th>\n",
       "      <th>2</th>\n",
       "      <th>3</th>\n",
       "      <th>4</th>\n",
       "      <th>5</th>\n",
       "      <th>6</th>\n",
       "      <th>7</th>\n",
       "      <th>8</th>\n",
       "      <th>9</th>\n",
       "    </tr>\n",
       "  </thead>\n",
       "  <tbody>\n",
       "    <tr>\n",
       "      <th>0</th>\n",
       "      <td>mlp</td>\n",
       "      <td>factor8neg4</td>\n",
       "      <td>bz256</td>\n",
       "      <td>166432168</td>\n",
       "      <td>pretrain</td>\n",
       "      <td>reg</td>\n",
       "      <td>0.0000001</td>\n",
       "      <td>Epoch192</td>\n",
       "      <td>HR0.5364</td>\n",
       "      <td>NDCG0.4551.model</td>\n",
       "    </tr>\n",
       "    <tr>\n",
       "      <th>1</th>\n",
       "      <td>mlp</td>\n",
       "      <td>factor8neg4</td>\n",
       "      <td>bz256</td>\n",
       "      <td>166432168</td>\n",
       "      <td>pretrain</td>\n",
       "      <td>reg</td>\n",
       "      <td>0.0000001</td>\n",
       "      <td>Epoch17</td>\n",
       "      <td>HR0.5035</td>\n",
       "      <td>NDCG0.4257.model</td>\n",
       "    </tr>\n",
       "    <tr>\n",
       "      <th>2</th>\n",
       "      <td>mlp</td>\n",
       "      <td>factor8neg4</td>\n",
       "      <td>bz256</td>\n",
       "      <td>166432168</td>\n",
       "      <td>pretrain</td>\n",
       "      <td>reg</td>\n",
       "      <td>0.0000001</td>\n",
       "      <td>Epoch123</td>\n",
       "      <td>HR0.5503</td>\n",
       "      <td>NDCG0.4582.model</td>\n",
       "    </tr>\n",
       "    <tr>\n",
       "      <th>3</th>\n",
       "      <td>mlp</td>\n",
       "      <td>factor8neg4</td>\n",
       "      <td>bz256</td>\n",
       "      <td>166432168</td>\n",
       "      <td>pretrain</td>\n",
       "      <td>reg</td>\n",
       "      <td>0.0000001</td>\n",
       "      <td>Epoch182</td>\n",
       "      <td>HR0.5520</td>\n",
       "      <td>NDCG0.4612.model</td>\n",
       "    </tr>\n",
       "    <tr>\n",
       "      <th>4</th>\n",
       "      <td>mlp</td>\n",
       "      <td>factor8neg4</td>\n",
       "      <td>bz256</td>\n",
       "      <td>166432168</td>\n",
       "      <td>pretrain</td>\n",
       "      <td>reg</td>\n",
       "      <td>0.0000001</td>\n",
       "      <td>Epoch136</td>\n",
       "      <td>HR0.5434</td>\n",
       "      <td>NDCG0.4535.model</td>\n",
       "    </tr>\n",
       "  </tbody>\n",
       "</table>\n",
       "</div>"
      ],
      "text/plain": [
       "     0            1      2          3         4    5          6         7  \\\n",
       "0  mlp  factor8neg4  bz256  166432168  pretrain  reg  0.0000001  Epoch192   \n",
       "1  mlp  factor8neg4  bz256  166432168  pretrain  reg  0.0000001   Epoch17   \n",
       "2  mlp  factor8neg4  bz256  166432168  pretrain  reg  0.0000001  Epoch123   \n",
       "3  mlp  factor8neg4  bz256  166432168  pretrain  reg  0.0000001  Epoch182   \n",
       "4  mlp  factor8neg4  bz256  166432168  pretrain  reg  0.0000001  Epoch136   \n",
       "\n",
       "          8                 9  \n",
       "0  HR0.5364  NDCG0.4551.model  \n",
       "1  HR0.5035  NDCG0.4257.model  \n",
       "2  HR0.5503  NDCG0.4582.model  \n",
       "3  HR0.5520  NDCG0.4612.model  \n",
       "4  HR0.5434  NDCG0.4535.model  "
      ]
     },
     "execution_count": 30,
     "metadata": {},
     "output_type": "execute_result"
    }
   ],
   "source": [
    "mlp.head()"
   ]
  },
  {
   "cell_type": "code",
   "execution_count": 31,
   "metadata": {},
   "outputs": [],
   "source": [
    "gmf['model']=gmf[0]\n",
    "gmf['epoch']=gmf[2].apply(lambda x: x[5:])\n",
    "gmf['hr']=gmf[3].apply(lambda x: x[2:])\n",
    "gmf['ndcg']=gmf[4].apply(lambda x: x[4:-6])"
   ]
  },
  {
   "cell_type": "code",
   "execution_count": 32,
   "metadata": {},
   "outputs": [],
   "source": [
    "gmf = gmf[['model','epoch', 'hr', 'ndcg']].sort_values('epoch')\n",
    "gmf['epoch']=gmf['epoch'].astype('int32')\n",
    "gmf['hr']=gmf['hr'].astype('float64')\n",
    "gmf['ndcg']=gmf['ndcg'].astype('float64')"
   ]
  },
  {
   "cell_type": "code",
   "execution_count": 33,
   "metadata": {},
   "outputs": [
    {
     "data": {
      "text/html": [
       "<div>\n",
       "<style scoped>\n",
       "    .dataframe tbody tr th:only-of-type {\n",
       "        vertical-align: middle;\n",
       "    }\n",
       "\n",
       "    .dataframe tbody tr th {\n",
       "        vertical-align: top;\n",
       "    }\n",
       "\n",
       "    .dataframe thead th {\n",
       "        text-align: right;\n",
       "    }\n",
       "</style>\n",
       "<table border=\"1\" class=\"dataframe\">\n",
       "  <thead>\n",
       "    <tr style=\"text-align: right;\">\n",
       "      <th></th>\n",
       "      <th>model</th>\n",
       "      <th>epoch</th>\n",
       "      <th>hr</th>\n",
       "      <th>ndcg</th>\n",
       "    </tr>\n",
       "  </thead>\n",
       "  <tbody>\n",
       "    <tr>\n",
       "      <th>0</th>\n",
       "      <td>gmf</td>\n",
       "      <td>0</td>\n",
       "      <td>0.1081</td>\n",
       "      <td>0.0541</td>\n",
       "    </tr>\n",
       "    <tr>\n",
       "      <th>1</th>\n",
       "      <td>gmf</td>\n",
       "      <td>1</td>\n",
       "      <td>0.1162</td>\n",
       "      <td>0.0579</td>\n",
       "    </tr>\n",
       "    <tr>\n",
       "      <th>2</th>\n",
       "      <td>gmf</td>\n",
       "      <td>2</td>\n",
       "      <td>0.1249</td>\n",
       "      <td>0.0623</td>\n",
       "    </tr>\n",
       "    <tr>\n",
       "      <th>3</th>\n",
       "      <td>gmf</td>\n",
       "      <td>3</td>\n",
       "      <td>0.1341</td>\n",
       "      <td>0.0666</td>\n",
       "    </tr>\n",
       "    <tr>\n",
       "      <th>4</th>\n",
       "      <td>gmf</td>\n",
       "      <td>4</td>\n",
       "      <td>0.1480</td>\n",
       "      <td>0.0745</td>\n",
       "    </tr>\n",
       "  </tbody>\n",
       "</table>\n",
       "</div>"
      ],
      "text/plain": [
       "  model  epoch      hr    ndcg\n",
       "0   gmf      0  0.1081  0.0541\n",
       "1   gmf      1  0.1162  0.0579\n",
       "2   gmf      2  0.1249  0.0623\n",
       "3   gmf      3  0.1341  0.0666\n",
       "4   gmf      4  0.1480  0.0745"
      ]
     },
     "execution_count": 33,
     "metadata": {},
     "output_type": "execute_result"
    }
   ],
   "source": [
    "gmf=gmf.sort_values('epoch').reset_index(drop=True)\n",
    "gmf.head()"
   ]
  },
  {
   "cell_type": "code",
   "execution_count": 34,
   "metadata": {},
   "outputs": [
    {
     "data": {
      "text/plain": [
       "Text(0.5,1,'Stage 1: GMF')"
      ]
     },
     "execution_count": 34,
     "metadata": {},
     "output_type": "execute_result"
    },
    {
     "data": {
      "image/png": "[encoded data removed]",
      "text/plain": [
       "<Figure size 432x288 with 1 Axes>"
      ]
     },
     "metadata": {},
     "output_type": "display_data"
    }
   ],
   "source": [
    "plt.plot(gmf['epoch'].values, gmf['hr'].values, color='b')\n",
    "plt.plot(gmf['epoch'].values, gmf['ndcg'].values, color='r')\n",
    "plt.legend(['hr', 'ndcg'])\n",
    "plt.title('Stage 1: GMF')"
   ]
  },
  {
   "cell_type": "code",
   "execution_count": 35,
   "metadata": {},
   "outputs": [],
   "source": [
    "mlp['model']=mlp[0]\n",
    "mlp['epoch']=mlp[7].apply(lambda x: x[5:])\n",
    "mlp['hr']=mlp[8].apply(lambda x: x[2:])\n",
    "mlp['ndcg']=mlp[9].apply(lambda x: x[4:-6])"
   ]
  },
  {
   "cell_type": "code",
   "execution_count": 36,
   "metadata": {},
   "outputs": [],
   "source": [
    "mlp = mlp[['model', 'epoch', 'hr', 'ndcg']].sort_values('epoch')\n",
    "mlp['epoch']=mlp['epoch'].astype('int32')\n",
    "mlp['hr']=mlp['hr'].astype('float64')\n",
    "mlp['ndcg']=mlp['ndcg'].astype('float64')"
   ]
  },
  {
   "cell_type": "code",
   "execution_count": 37,
   "metadata": {},
   "outputs": [],
   "source": [
    "mlp=mlp.sort_values('epoch').reset_index(drop=True)"
   ]
  },
  {
   "cell_type": "code",
   "execution_count": 38,
   "metadata": {},
   "outputs": [],
   "source": [
    "mlp.drop_duplicates('epoch', inplace=True)"
   ]
  },
  {
   "cell_type": "code",
   "execution_count": 39,
   "metadata": {},
   "outputs": [
    {
     "data": {
      "text/html": [
       "<div>\n",
       "<style scoped>\n",
       "    .dataframe tbody tr th:only-of-type {\n",
       "        vertical-align: middle;\n",
       "    }\n",
       "\n",
       "    .dataframe tbody tr th {\n",
       "        vertical-align: top;\n",
       "    }\n",
       "\n",
       "    .dataframe thead th {\n",
       "        text-align: right;\n",
       "    }\n",
       "</style>\n",
       "<table border=\"1\" class=\"dataframe\">\n",
       "  <thead>\n",
       "    <tr style=\"text-align: right;\">\n",
       "      <th></th>\n",
       "      <th>model</th>\n",
       "      <th>epoch</th>\n",
       "      <th>hr</th>\n",
       "      <th>ndcg</th>\n",
       "    </tr>\n",
       "  </thead>\n",
       "  <tbody>\n",
       "    <tr>\n",
       "      <th>0</th>\n",
       "      <td>mlp</td>\n",
       "      <td>0</td>\n",
       "      <td>0.4590</td>\n",
       "      <td>0.3763</td>\n",
       "    </tr>\n",
       "    <tr>\n",
       "      <th>1</th>\n",
       "      <td>mlp</td>\n",
       "      <td>1</td>\n",
       "      <td>0.4740</td>\n",
       "      <td>0.3926</td>\n",
       "    </tr>\n",
       "    <tr>\n",
       "      <th>2</th>\n",
       "      <td>mlp</td>\n",
       "      <td>2</td>\n",
       "      <td>0.4792</td>\n",
       "      <td>0.4013</td>\n",
       "    </tr>\n",
       "    <tr>\n",
       "      <th>3</th>\n",
       "      <td>mlp</td>\n",
       "      <td>3</td>\n",
       "      <td>0.4769</td>\n",
       "      <td>0.3986</td>\n",
       "    </tr>\n",
       "    <tr>\n",
       "      <th>4</th>\n",
       "      <td>mlp</td>\n",
       "      <td>4</td>\n",
       "      <td>0.4867</td>\n",
       "      <td>0.4123</td>\n",
       "    </tr>\n",
       "  </tbody>\n",
       "</table>\n",
       "</div>"
      ],
      "text/plain": [
       "  model  epoch      hr    ndcg\n",
       "0   mlp      0  0.4590  0.3763\n",
       "1   mlp      1  0.4740  0.3926\n",
       "2   mlp      2  0.4792  0.4013\n",
       "3   mlp      3  0.4769  0.3986\n",
       "4   mlp      4  0.4867  0.4123"
      ]
     },
     "execution_count": 39,
     "metadata": {},
     "output_type": "execute_result"
    }
   ],
   "source": [
    "mlp.head()"
   ]
  },
  {
   "cell_type": "code",
   "execution_count": 40,
   "metadata": {},
   "outputs": [
    {
     "data": {
      "text/plain": [
       "Text(0.5,1,'Stage 2: MLP')"
      ]
     },
     "execution_count": 40,
     "metadata": {},
     "output_type": "execute_result"
    },
    {
     "data": {
      "image/png": "[encoded data removed]",
      "text/plain": [
       "<Figure size 432x288 with 1 Axes>"
      ]
     },
     "metadata": {},
     "output_type": "display_data"
    }
   ],
   "source": [
    "plt.plot(mlp['epoch'].values, mlp['hr'].values, color='b')\n",
    "plt.plot(mlp['epoch'].values, mlp['ndcg'].values, color='r')\n",
    "plt.legend(['hr', 'ndcg'])\n",
    "plt.title('Stage 2: MLP')"
   ]
  },
  {
   "cell_type": "code",
   "execution_count": 41,
   "metadata": {},
   "outputs": [],
   "source": [
    "neumf['model']=neumf[1]\n",
    "neumf['epoch']=neumf[3].apply(lambda x: x[5:])\n",
    "neumf['hr']=neumf[4].apply(lambda x: x[2:])\n",
    "neumf['ndcg']=neumf[5].apply(lambda x: x[4:-6])"
   ]
  },
  {
   "cell_type": "code",
   "execution_count": 42,
   "metadata": {},
   "outputs": [],
   "source": [
    "neumf = neumf[['model', 'epoch', 'hr', 'ndcg']].sort_values('epoch')\n",
    "neumf['epoch']=neumf['epoch'].astype('int32')\n",
    "neumf['hr']=neumf['hr'].astype('float64')\n",
    "neumf['ndcg']=neumf['ndcg'].astype('float64')\n",
    "neumf=neumf.sort_values('epoch').reset_index(drop=True)"
   ]
  },
  {
   "cell_type": "code",
   "execution_count": 44,
   "metadata": {},
   "outputs": [
    {
     "data": {
      "text/plain": [
       "Text(0.5,1,'Stage 3 NeuMF')"
      ]
     },
     "execution_count": 44,
     "metadata": {},
     "output_type": "execute_result"
    },
    {
     "data": {
      "image/png": "[encoded data removed]",
      "text/plain": [
       "<Figure size 432x288 with 1 Axes>"
      ]
     },
     "metadata": {},
     "output_type": "display_data"
    }
   ],
   "source": [
    "plt.plot(neumf['epoch'].values, neumf['hr'].values, color='b')\n",
    "plt.plot(neumf['epoch'].values, neumf['ndcg'].values, color='r')\n",
    "plt.legend(['hr', 'ndcg'])\n",
    "plt.title('Stage 3 NeuMF')"
   ]
  },
  {
   "cell_type": "code",
   "execution_count": 67,
   "metadata": {},
   "outputs": [
    {
     "data": {
      "text/plain": [
       "model       mlp\n",
       "epoch       162\n",
       "hr       0.5798\n",
       "ndcg     0.4744\n",
       "Name: 562, dtype: object"
      ]
     },
     "execution_count": 67,
     "metadata": {},
     "output_type": "execute_result"
    }
   ],
   "source": [
    "df = neumf.append(gmf).append(mlp)\n",
    "df.reset_index(drop=True, inplace=True)\n",
    "best_result=df.loc[df['hr'].idxmax(axis=1)]\n",
    "best_result"
   ]
  },
  {
   "cell_type": "code",
   "execution_count": 68,
   "metadata": {},
   "outputs": [
    {
     "name": "stdout",
     "output_type": "stream",
     "text": [
      "The best performing model is MLP with a Hit Rate at 57.98% and NDCG at 47.44%\n"
     ]
    }
   ],
   "source": [
    "print('The best performing model is {} with a Hit Rate at {:.2f}% and NDCG at {:.2f}%'.format((best_result[0]).upper(),best_result[2]*100,best_result[3]*100))"
   ]
  }
 ],
 "metadata": {
  "kernelspec": {
   "display_name": "conda_python3",
   "language": "python",
   "name": "conda_python3"
  },
  "language_info": {
   "codemirror_mode": {
    "name": "ipython",
    "version": 3
   },
   "file_extension": ".py",
   "mimetype": "text/x-python",
   "name": "python",
   "nbconvert_exporter": "python",
   "pygments_lexer": "ipython3",
   "version": "3.6.5"
  }
 },
 "nbformat": 4,
 "nbformat_minor": 2
}
