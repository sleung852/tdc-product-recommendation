{
 "cells": [
  {
   "cell_type": "code",
   "execution_count": 1,
   "metadata": {},
   "outputs": [],
   "source": [
    "import os"
   ]
  },
  {
   "cell_type": "code",
   "execution_count": 2,
   "metadata": {},
   "outputs": [
    {
     "data": {
      "text/plain": [
       "['mlp_factor8neg4_bz256_166432168_pretrain_reg_0.0000001_Epoch160_HR0.2909_NDCG0.1984.model',\n",
       " 'mlp_factor8neg4_bz256_166432168_pretrain_reg_0.0000001_Epoch180_HR0.2749_NDCG0.1482.model',\n",
       " 'pretrain_neumf_factor8neg4_Epoch60_HR0.2841_NDCG0.1941.model',\n",
       " 'mlp_factor8neg4_bz256_166432168_pretrain_reg_0.0000001_Epoch80_HR0.2945_NDCG0.1993.model',\n",
       " 'gmf_factor8neg4-implict_Epoch0_HR0.0970_NDCG0.0436.model',\n",
       " 'gmf_factor8neg4-implict_Epoch160_HR0.2612_NDCG0.1792.model',\n",
       " 'gmf_factor8neg4-implict_Epoch120_HR0.2537_NDCG0.1672.model',\n",
       " 'gmf_factor8neg4-implict_Epoch180_HR0.2673_NDCG0.1819.model',\n",
       " 'gmf_factor8neg4-implict_Epoch0_HR0.1002_NDCG0.0458.model',\n",
       " 'gmf_factor8neg4-implict_Epoch40_HR0.1814_NDCG0.1120.model',\n",
       " 'mlp_factor8neg4_bz256_166432168_pretrain_reg_0.0000001_Epoch0_HR0.2731_NDCG0.1907.model',\n",
       " 'mlp_factor8neg4_bz256_166432168_pretrain_reg_0.0000001_Epoch40_HR0.3005_NDCG0.2037.model',\n",
       " 'mlp_factor8neg4_bz256_166432168_pretrain_reg_0.0000001_Epoch160_HR0.2791_NDCG0.1647.model',\n",
       " 'gmf_factor8neg4-implict_Epoch0_HR0.0982_NDCG0.0449.model',\n",
       " 'mlp_factor8neg4_bz256_166432168_pretrain_reg_0.0000001_Epoch100_HR0.2567_NDCG0.1739.model',\n",
       " 'mlp_factor8neg4_bz256_166432168_pretrain_reg_0.0000001_Epoch140_HR0.2853_NDCG0.1736.model',\n",
       " 'gmf_factor8neg4-implict_Epoch100_HR0.2439_NDCG0.1585.model',\n",
       " 'mlp_factor8neg4_bz256_166432168_pretrain_reg_0.0000001_Epoch60_HR0.3033_NDCG0.2084.model',\n",
       " 'pretrain_neumf_factor8neg4_Epoch40_HR0.2905_NDCG0.2015.model',\n",
       " 'mlp_factor8neg4_bz256_166432168_pretrain_reg_0.0000001_Epoch120_HR0.2846_NDCG0.1956.model',\n",
       " 'mlp_factor8neg4_bz256_166432168_pretrain_reg_0.0000001_Epoch60_HR0.3003_NDCG0.2031.model',\n",
       " 'mlp_factor8neg4_bz256_166432168_pretrain_reg_0.0000001_Epoch40_HR0.2997_NDCG0.2018.model',\n",
       " 'pretrain_neumf_factor8neg4_Epoch20_HR0.2860_NDCG0.1980.model',\n",
       " 'mlp_factor8neg4_bz256_166432168_pretrain_reg_0.0000001_Epoch120_HR0.2875_NDCG0.1862.model',\n",
       " 'pretrain_neumf_factor8neg4_Epoch0_HR0.2520_NDCG0.1753.model',\n",
       " 'mlp_factor8neg4_bz256_166432168_pretrain_reg_0.0000001_Epoch20_HR0.2952_NDCG0.2020.model',\n",
       " 'mlp_factor8neg4_bz256_166432168_pretrain_reg_0.0000001_Epoch100_HR0.2884_NDCG0.1900.model',\n",
       " 'mlp_factor8neg4_bz256_166432168_pretrain_reg_0.0000001_Epoch199_HR0.2915_NDCG0.1911.model',\n",
       " 'gmf_factor8neg4-implict_Epoch60_HR0.1980_NDCG0.1231.model',\n",
       " 'mlp_factor8neg4_bz256_166432168_pretrain_reg_0.0000001_Epoch80_HR0.2988_NDCG0.2048.model',\n",
       " 'gmf_factor8neg4-implict_Epoch80_HR0.2066_NDCG0.1289.model',\n",
       " 'mlp_factor8neg4_bz256_166432168_pretrain_reg_0.0000001_Epoch0_HR0.2777_NDCG0.1935.model',\n",
       " 'mlp_factor8neg4_bz256_166432168_pretrain_reg_0.0000001_Epoch199_HR0.2771_NDCG0.1512.model',\n",
       " 'gmf_factor8neg4-implict_Epoch199_HR0.2702_NDCG0.1835.model',\n",
       " 'dataset_1',\n",
       " 'gmf_factor8neg4-implict_Epoch0_HR0.0940_NDCG0.0430.model',\n",
       " 'mlp_factor8neg4_bz256_166432168_pretrain_reg_0.0000001_Epoch20_HR0.2896_NDCG0.2018.model',\n",
       " 'mlp_factor8neg4_bz256_166432168_pretrain_reg_0.0000001_Epoch140_HR0.2883_NDCG0.2028.model',\n",
       " 'gmf_factor8neg4-implict_Epoch140_HR0.2488_NDCG0.1640.model',\n",
       " 'mlp_factor8neg4_bz256_166432168_pretrain_reg_0.0000001_Epoch180_HR0.2973_NDCG0.1936.model',\n",
       " 'gmf_factor8neg4-implict_Epoch20_HR0.1472_NDCG0.0838.model']"
      ]
     },
     "execution_count": 2,
     "metadata": {},
     "output_type": "execute_result"
    }
   ],
   "source": [
    "os.listdir('checkpoints')"
   ]
  },
  {
   "cell_type": "code",
   "execution_count": 3,
   "metadata": {},
   "outputs": [],
   "source": [
    "total_size = 0\n",
    "\n",
    "for item in os.listdir('checkpoints'):\n",
    "    item_size = os.stat(os.path.join('checkpoints', item)).st_size\n",
    "    total_size += item_size"
   ]
  },
  {
   "cell_type": "code",
   "execution_count": 6,
   "metadata": {},
   "outputs": [
    {
     "name": "stdout",
     "output_type": "stream",
     "text": [
      "Total file size is 35.20 MB.\n"
     ]
    }
   ],
   "source": [
    "print('Total file size is {:.2f} MB.'.format(total_size/1000000))"
   ]
  },
  {
   "cell_type": "code",
   "execution_count": null,
   "metadata": {},
   "outputs": [],
   "source": []
  }
 ],
 "metadata": {
  "kernelspec": {
   "display_name": "conda_python3",
   "language": "python",
   "name": "conda_python3"
  },
  "language_info": {
   "codemirror_mode": {
    "name": "ipython",
    "version": 3
   },
   "file_extension": ".py",
   "mimetype": "text/x-python",
   "name": "python",
   "nbconvert_exporter": "python",
   "pygments_lexer": "ipython3",
   "version": "3.6.5"
  }
 },
 "nbformat": 4,
 "nbformat_minor": 2
}
