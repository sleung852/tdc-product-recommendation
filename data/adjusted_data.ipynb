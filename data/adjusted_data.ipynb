{
 "cells": [
  {
   "cell_type": "code",
   "execution_count": 49,
   "metadata": {},
   "outputs": [],
   "source": [
    "import pandas as pd\n",
    "import matplotlib.pyplot as plt\n",
    "import os"
   ]
  },
  {
   "cell_type": "code",
   "execution_count": 50,
   "metadata": {},
   "outputs": [],
   "source": [
    "df=pd.read_csv('user-item-oct-dec-2018-v2-modified.csv')"
   ]
  },
  {
   "cell_type": "code",
   "execution_count": 40,
   "metadata": {},
   "outputs": [],
   "source": [
    "#df=pd.read_csv('all-userItemInteractions-until-2019-01-13-01-modified.csv')"
   ]
  },
  {
   "cell_type": "code",
   "execution_count": 56,
   "metadata": {},
   "outputs": [],
   "source": [
    "df.drop(df[df[['USER_ID','ITEM_ID']].duplicated()].index, inplace=True)"
   ]
  },
  {
   "cell_type": "code",
   "execution_count": 57,
   "metadata": {},
   "outputs": [],
   "source": [
    "def check_users_items_1(df):\n",
    "    # user side\n",
    "    user_id = df.groupby('USER_ID').count()['ITEM_ID']\n",
    "    bad_users=user_id[user_id==1].index\n",
    "    # item side\n",
    "    item_id = df.groupby('ITEM_ID').count()['USER_ID']\n",
    "    bad_items =item_id[item_id==1].index\n",
    "    return bad_users, bad_items\n",
    "    \n",
    "def clear_users_items_1(df, bad_users, bad_items):\n",
    "    # iterrows\n",
    "    drop_index=[]\n",
    "    for ind, row in df.iterrows():\n",
    "        if (row['USER_ID'] in bad_users) | (row['ITEM_ID'] in bad_items):\n",
    "            drop_index.append(ind)\n",
    "    df_cleaned = df.drop(drop_index)\n",
    "    return df_cleaned"
   ]
  },
  {
   "cell_type": "code",
   "execution_count": 58,
   "metadata": {},
   "outputs": [
    {
     "name": "stdout",
     "output_type": "stream",
     "text": [
      "Number of bad users: 75054 \n",
      "Number of bad items: 72173\n",
      "Starting clean process 1\n",
      "\n",
      "Number of bad users: 5553 \n",
      "Number of bad items: 7677\n",
      "Starting clean process 2\n",
      "\n",
      "Number of bad users: 1542 \n",
      "Number of bad items: 1906\n",
      "Starting clean process 3\n",
      "\n",
      "Number of bad users: 465 \n",
      "Number of bad items: 672\n",
      "Starting clean process 4\n",
      "\n",
      "Number of bad users: 199 \n",
      "Number of bad items: 243\n",
      "Starting clean process 5\n",
      "\n",
      "Number of bad users: 66 \n",
      "Number of bad items: 104\n",
      "Starting clean process 6\n",
      "\n",
      "Number of bad users: 32 \n",
      "Number of bad items: 40\n",
      "Starting clean process 7\n",
      "\n",
      "Number of bad users: 9 \n",
      "Number of bad items: 19\n",
      "Starting clean process 8\n",
      "\n",
      "Number of bad users: 5 \n",
      "Number of bad items: 4\n",
      "Starting clean process 9\n",
      "\n",
      "Number of bad users: 3 \n",
      "Number of bad items: 4\n",
      "Starting clean process 10\n",
      "\n",
      "Number of bad users: 1 \n",
      "Number of bad items: 3\n",
      "Starting clean process 11\n",
      "\n",
      "Number of bad users: 1 \n",
      "Number of bad items: 1\n",
      "Starting clean process 12\n",
      "\n",
      "Number of bad users: 1 \n",
      "Number of bad items: 1\n",
      "Starting clean process 13\n",
      "\n",
      "Number of bad users: 0 \n",
      "Number of bad items: 1\n",
      "Starting clean process 14\n",
      "\n",
      "Number of bad users: 1 \n",
      "Number of bad items: 0\n",
      "Starting clean process 15\n",
      "\n",
      "No more rubbish data.\n"
     ]
    }
   ],
   "source": [
    "bad_users, bad_items = check_users_items_1(df)\n",
    "count = 1\n",
    "while ((len(bad_users)>0) | (len(bad_items)>0)):\n",
    "    print('Number of bad users: {} \\nNumber of bad items: {}'.format(len(bad_users), len(bad_items)))\n",
    "    print('Starting clean process {}\\n'.format(count))\n",
    "    df = clear_users_items_1(df, bad_users, bad_items)\n",
    "    df.drop_duplicates(inplace=True)\n",
    "    bad_users, bad_items = check_users_items_1(df)\n",
    "    count += 1\n",
    "print('No more rubbish data.')"
   ]
  },
  {
   "cell_type": "code",
   "execution_count": 59,
   "metadata": {},
   "outputs": [],
   "source": [
    "df.to_csv('cleaned_data.csv', index=False)"
   ]
  },
  {
   "cell_type": "code",
   "execution_count": null,
   "metadata": {},
   "outputs": [],
   "source": []
  }
 ],
 "metadata": {
  "kernelspec": {
   "display_name": "conda_python3",
   "language": "python",
   "name": "conda_python3"
  },
  "language_info": {
   "codemirror_mode": {
    "name": "ipython",
    "version": 3
   },
   "file_extension": ".py",
   "mimetype": "text/x-python",
   "name": "python",
   "nbconvert_exporter": "python",
   "pygments_lexer": "ipython3",
   "version": "3.6.5"
  }
 },
 "nbformat": 4,
 "nbformat_minor": 2
}
